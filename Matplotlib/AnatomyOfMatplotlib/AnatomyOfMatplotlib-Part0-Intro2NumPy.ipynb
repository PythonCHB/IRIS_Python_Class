{
 "metadata": {
  "name": "AnatomyOfMatplotlib-Part0-Intro2NumPy"
 },
 "nbformat": 3,
 "nbformat_minor": 0,
 "worksheets": [
  {
   "cells": [
    {
     "cell_type": "markdown",
     "metadata": {},
     "source": [
      "# NumPy\n",
      "The NumPy package provides the \"ndarray\" object. The NumPy array is used to contain data of uniform type with an arbitrary number of dimensions. NumPy then provides basic mathematical and array methods to lay down the foundation for the entire SciPy ecosystem.\n",
      "\n",
      "## Array Creation\n",
      "There are several ways to make NumPy arrays. An array has three particular attributes that can be queried: shape, size and the number of dimensions."
     ]
    },
    {
     "cell_type": "markdown",
     "metadata": {},
     "source": [
      "## Array Manipulation\n",
      "How to change the shape of an array without a copy!"
     ]
    },
    {
     "cell_type": "code",
     "collapsed": false,
     "input": [
      "x.shape = (20, 5)\n",
      "print x"
     ],
     "language": "python",
     "metadata": {},
     "outputs": []
    },
    {
     "cell_type": "markdown",
     "metadata": {},
     "source": [
      "NumPy can even automatically figure out the size of at most one dimension for you."
     ]
    },
    {
     "cell_type": "code",
     "collapsed": false,
     "input": [
      "y.shape = (4, 20, -1)\n",
      "print y.shape"
     ],
     "language": "python",
     "metadata": {},
     "outputs": []
    },
    {
     "cell_type": "markdown",
     "metadata": {},
     "source": [
      "## Array Indexing"
     ]
    },
    {
     "cell_type": "code",
     "collapsed": false,
     "input": [
      "# Scalar Indexing\n",
      "print x[2]"
     ],
     "language": "python",
     "metadata": {},
     "outputs": []
    },
    {
     "cell_type": "code",
     "collapsed": false,
     "input": [
      "# Slicing\n",
      "print x[2:5]"
     ],
     "language": "python",
     "metadata": {},
     "outputs": []
    },
    {
     "cell_type": "code",
     "collapsed": false,
     "input": [
      "# Advanced slicing\n",
      "print \"First 5 rows\\n\", x[:5]\n",
      "print \"Row 18 to the end\\n\", x[18:]\n",
      "print \"Last 5 rows\\n\", x[-5:]\n",
      "print \"Reverse the rows\\n\", x[::-1]"
     ],
     "language": "python",
     "metadata": {},
     "outputs": []
    },
    {
     "cell_type": "code",
     "collapsed": false,
     "input": [
      "# Boolean Indexing\n",
      "print x[(x % 2) == 0]"
     ],
     "language": "python",
     "metadata": {},
     "outputs": []
    },
    {
     "cell_type": "code",
     "collapsed": false,
     "input": [
      "# Fancy Indexing -- Note the use of a list, not tuple!\n",
      "print x[[1, 3, 8, 9, 2]]"
     ],
     "language": "python",
     "metadata": {},
     "outputs": []
    },
    {
     "cell_type": "markdown",
     "metadata": {},
     "source": [
      "## Broadcasting\n",
      "Broadcasting is a very useful feature of NumPy that will let arrays with differing shapes still be used together. In most cases, broadcasting is faster, and it is more memory efficient than the equivalent full array operation."
     ]
    },
    {
     "cell_type": "code",
     "collapsed": true,
     "input": [
      "print \"Shape of X:\", x.shape\n",
      "print \"Shape of Y:\", y.shape"
     ],
     "language": "python",
     "metadata": {},
     "outputs": []
    },
    {
     "cell_type": "markdown",
     "metadata": {},
     "source": [
      "Now, here are three identical assignments. The first one takes full advantage of broadcasting by allowing NumPy to automatically add a new dimension to the *left*. The second explicitly adds that dimension with the special NumPy alias \"np.newaxis\". These first two creates a singleton dimension without any new arrays being created. That singleton dimension is then implicitly tiled, much like the third example to match with the RHS of the addition operator. However, unlike the third example, the broadcasting merely re-uses the existing data in memory."
     ]
    },
    {
     "cell_type": "code",
     "collapsed": false,
     "input": [
      "a = x + y\n",
      "print a.shape\n",
      "b = x[np.newaxis, :, :] + y\n",
      "print b.shape\n",
      "c = np.tile(x, (4, 1, 1)) + y\n",
      "print c.shape\n",
      "print \"Are a and b identical?\", np.all(a == b)\n",
      "print \"Are a and c identical?\", np.all(a == c)"
     ],
     "language": "python",
     "metadata": {},
     "outputs": []
    },
    {
     "cell_type": "markdown",
     "metadata": {},
     "source": [
      "Another example of broadcasting two 1-D arrays to make a 2-D array."
     ]
    },
    {
     "cell_type": "code",
     "collapsed": false,
     "input": [
      "x = np.arange(-5, 5, 0.1)\n",
      "y = np.arange(-8, 8, 0.25)\n",
      "print x.shape, y.shape\n",
      "z = x[np.newaxis, :] * y[:, np.newaxis]\n",
      "print z.shape"
     ],
     "language": "python",
     "metadata": {},
     "outputs": []
    },
    {
     "cell_type": "code",
     "collapsed": false,
     "input": [
      "# More concisely\n",
      "y, x = np.ogrid[-8:8:0.25, -5:5:0.1]\n",
      "print x.shape, y.shape\n",
      "z = x * y\n",
      "print z.shape"
     ],
     "language": "python",
     "metadata": {},
     "outputs": []
    }
   ],
   "metadata": {}
  }
 ]
}
